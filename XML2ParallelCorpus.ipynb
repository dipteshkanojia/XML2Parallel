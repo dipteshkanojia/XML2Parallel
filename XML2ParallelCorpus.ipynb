{
 "cells": [
  {
   "cell_type": "code",
   "execution_count": 97,
   "metadata": {},
   "outputs": [],
   "source": [
    "import glob\n",
    "import xml.etree.ElementTree as ET\n",
    "import pandas as pd\n",
    "# root = ET.parse('datasource/Translation-NCERT-2021-12-31.xml').getroot()"
   ]
  },
  {
   "cell_type": "code",
   "execution_count": 112,
   "metadata": {},
   "outputs": [
    {
     "name": "stdout",
     "output_type": "stream",
     "text": [
      "source sentences: 15189 and target sentences: 15189\n"
     ]
    }
   ],
   "source": [
    "sourceAll = []\n",
    "targetAll = []\n",
    "for file in glob.glob('culture/*.xml'):\n",
    "    # print(file)\n",
    "    sourceList = []\n",
    "    targetList = []\n",
    "    root = ET.parse(file).getroot()\n",
    "    for source in root.iter('source'):\n",
    "        sourceList.append(str(source.text))\n",
    "    for target in root.iter('target'):\n",
    "        targetList.append(str(target.text))\n",
    "\n",
    "    if(len(sourceList)==len(targetList)):\n",
    "        for i in range(len(sourceList)):\n",
    "            sourceAll.append(str(sourceList[i]))\n",
    "            targetAll.append(str(targetList[i]))\n",
    "\n",
    "sourceNew = []\n",
    "targetNew = []\n",
    "for x in sourceAll:\n",
    "    sourceNew.append(x.replace(\"\\n\", \"\"))\n",
    "\n",
    "for x in targetAll:\n",
    "    targetNew.append(x.replace(\"\\n\", \"\"))\n",
    "\n",
    "print(\"source sentences: \"+str(len(sourceNew))+\" and target sentences: \"+str(len(targetNew)))\n"
   ]
  },
  {
   "cell_type": "code",
   "execution_count": 114,
   "metadata": {},
   "outputs": [
    {
     "name": "stdout",
     "output_type": "stream",
     "text": [
      "15189\n"
     ]
    }
   ],
   "source": [
    "parallel = pd.DataFrame({\"source\":sourceAll, \"target\":targetAll})\n",
    "print(len(parallel))"
   ]
  },
  {
   "cell_type": "code",
   "execution_count": 115,
   "metadata": {},
   "outputs": [],
   "source": [
    "parallel.to_csv('culture-parallel.tsv', index=False, encoding='utf-8', sep='\\t')"
   ]
  },
  {
   "cell_type": "code",
   "execution_count": 116,
   "metadata": {},
   "outputs": [],
   "source": [
    "# parallel['source'].to_csv('culture-corpus.en', index=False, encoding='utf-8', sep='\\t')\n",
    "# parallel['target'].to_csv('culture-corpus.hi', index=False, encoding='utf-8', sep='\\t')"
   ]
  },
  {
   "cell_type": "code",
   "execution_count": 117,
   "metadata": {},
   "outputs": [],
   "source": [
    "parallel = pd.read_csv('culture-parallel.tsv', sep='\\t')"
   ]
  },
  {
   "cell_type": "code",
   "execution_count": 118,
   "metadata": {},
   "outputs": [
    {
     "data": {
      "text/html": [
       "<div>\n",
       "<style scoped>\n",
       "    .dataframe tbody tr th:only-of-type {\n",
       "        vertical-align: middle;\n",
       "    }\n",
       "\n",
       "    .dataframe tbody tr th {\n",
       "        vertical-align: top;\n",
       "    }\n",
       "\n",
       "    .dataframe thead th {\n",
       "        text-align: right;\n",
       "    }\n",
       "</style>\n",
       "<table border=\"1\" class=\"dataframe\">\n",
       "  <thead>\n",
       "    <tr style=\"text-align: right;\">\n",
       "      <th></th>\n",
       "      <th>source</th>\n",
       "      <th>target</th>\n",
       "    </tr>\n",
       "  </thead>\n",
       "  <tbody>\n",
       "    <tr>\n",
       "      <th>0</th>\n",
       "      <td>Lebang Boomani</td>\n",
       "      <td>लेबांग बूमानी</td>\n",
       "    </tr>\n",
       "    <tr>\n",
       "      <th>1</th>\n",
       "      <td>The Garia Puja is a famous ritual among the pe...</td>\n",
       "      <td>त्रिपुरा के लोगों में गरिया पूजा एक प्रसिद्ध अ...</td>\n",
       "    </tr>\n",
       "    <tr>\n",
       "      <th>2</th>\n",
       "      <td>After the Garia Puja is over, the Tripuris hav...</td>\n",
       "      <td>गरिया पूजा समाप्त होने के बाद, त्रिपुरियों के ...</td>\n",
       "    </tr>\n",
       "    <tr>\n",
       "      <th>3</th>\n",
       "      <td>During this period flocks of charming colourfu...</td>\n",
       "      <td>इस अवधि के दौरान आकर्षक रंगीन कीड़ों के झुंड, ...</td>\n",
       "    </tr>\n",
       "    <tr>\n",
       "      <th>4</th>\n",
       "      <td>The annual visit of the insects inspires triba...</td>\n",
       "      <td>कीड़ों की वार्षिक सैर आदिवासी युवाओं को आमोद-प...</td>\n",
       "    </tr>\n",
       "    <tr>\n",
       "      <th>...</th>\n",
       "      <td>...</td>\n",
       "      <td>...</td>\n",
       "    </tr>\n",
       "    <tr>\n",
       "      <th>15184</th>\n",
       "      <td>Its main usage is in dance performances.</td>\n",
       "      <td>इसका मुख्य उपयोग नृत्य प्रदर्शन में होता है।</td>\n",
       "    </tr>\n",
       "    <tr>\n",
       "      <th>15185</th>\n",
       "      <td>A bunch of bells is tied or laced into a long ...</td>\n",
       "      <td>घंटियों का एक गुच्छा लंबी डोरी में या चमड़े के...</td>\n",
       "    </tr>\n",
       "    <tr>\n",
       "      <th>15186</th>\n",
       "      <td>Worn around the ankle, the foot movement or th...</td>\n",
       "      <td>टखने के चारों ओर पहना जाता है, जिससे पैरों की ...</td>\n",
       "    </tr>\n",
       "    <tr>\n",
       "      <th>15187</th>\n",
       "      <td>The ghunghroo and Indian dance are inseparable.</td>\n",
       "      <td>घुंघरू और भारतीय नृत्य अविभाज्य हैं।</td>\n",
       "    </tr>\n",
       "    <tr>\n",
       "      <th>15188</th>\n",
       "      <td>The Paijani is an example indicating the ornam...</td>\n",
       "      <td>पैजनी घुंघरुओं के आलंकारिक उपयोग को दर्शाता एक...</td>\n",
       "    </tr>\n",
       "  </tbody>\n",
       "</table>\n",
       "<p>15189 rows × 2 columns</p>\n",
       "</div>"
      ],
      "text/plain": [
       "                                                  source  \\\n",
       "0                                         Lebang Boomani   \n",
       "1      The Garia Puja is a famous ritual among the pe...   \n",
       "2      After the Garia Puja is over, the Tripuris hav...   \n",
       "3      During this period flocks of charming colourfu...   \n",
       "4      The annual visit of the insects inspires triba...   \n",
       "...                                                  ...   \n",
       "15184           Its main usage is in dance performances.   \n",
       "15185  A bunch of bells is tied or laced into a long ...   \n",
       "15186  Worn around the ankle, the foot movement or th...   \n",
       "15187    The ghunghroo and Indian dance are inseparable.   \n",
       "15188  The Paijani is an example indicating the ornam...   \n",
       "\n",
       "                                                  target  \n",
       "0                                          लेबांग बूमानी  \n",
       "1      त्रिपुरा के लोगों में गरिया पूजा एक प्रसिद्ध अ...  \n",
       "2      गरिया पूजा समाप्त होने के बाद, त्रिपुरियों के ...  \n",
       "3      इस अवधि के दौरान आकर्षक रंगीन कीड़ों के झुंड, ...  \n",
       "4      कीड़ों की वार्षिक सैर आदिवासी युवाओं को आमोद-प...  \n",
       "...                                                  ...  \n",
       "15184       इसका मुख्य उपयोग नृत्य प्रदर्शन में होता है।  \n",
       "15185  घंटियों का एक गुच्छा लंबी डोरी में या चमड़े के...  \n",
       "15186  टखने के चारों ओर पहना जाता है, जिससे पैरों की ...  \n",
       "15187               घुंघरू और भारतीय नृत्य अविभाज्य हैं।  \n",
       "15188  पैजनी घुंघरुओं के आलंकारिक उपयोग को दर्शाता एक...  \n",
       "\n",
       "[15189 rows x 2 columns]"
      ]
     },
     "execution_count": 118,
     "metadata": {},
     "output_type": "execute_result"
    }
   ],
   "source": [
    "parallel"
   ]
  },
  {
   "cell_type": "code",
   "execution_count": 105,
   "metadata": {},
   "outputs": [],
   "source": [
    "# parallel['source'].to_csv('corpus.en', index=False, encoding='utf-8', sep='\\t')\n",
    "# parallel['target'].to_csv('corpus.hi', index=False, encoding='utf-8', sep='\\t')"
   ]
  },
  {
   "cell_type": "code",
   "execution_count": null,
   "metadata": {},
   "outputs": [],
   "source": []
  }
 ],
 "metadata": {
  "interpreter": {
   "hash": "8d82ab2ae30a554bdfcb159b33d0a1b8d48b75e1aea5ce124fe8c7c5a8946a9b"
  },
  "kernelspec": {
   "display_name": "Python 3.6.13 64-bit ('translate': conda)",
   "name": "python3"
  },
  "language_info": {
   "name": "python",
   "version": "3.6.13"
  },
  "orig_nbformat": 4
 },
 "nbformat": 4,
 "nbformat_minor": 2
}
